{
 "cells": [
  {
   "cell_type": "code",
   "execution_count": 6,
   "metadata": {},
   "outputs": [],
   "source": [
    "import pandas as pd\n",
    "import math\n",
    "from datetime import date\n",
    "import glob\n",
    "import json\n",
    "import numpy as np\n",
    "import nbimporter\n",
    "import sys\n",
    "import numpy as np\n"
   ]
  },
  {
   "cell_type": "code",
   "execution_count": 13,
   "metadata": {},
   "outputs": [],
   "source": [
    "def load_data(file):\n",
    "    daily = pd.read_csv(file)\n",
    "    if 'Date' in daily.columns:\n",
    "        daily['Date'] = pd.to_datetime(daily['Date'])\n",
    "    else:\n",
    "        daily['Date'] = pd.to_datetime(daily['Datetime'], utc=True).dt.tz_convert('US/Eastern')\n",
    "    daily = daily.sort_values(by='Date', ascending=True)\n",
    "    daily['Day'] = daily['Date'].dt.strftime('%m/%d/%Y')\n",
    "    daily['Time'] = daily['Date'].dt.strftime('%H:%M')\n",
    "    daily = daily.dropna().reset_index(drop=True)\n",
    "    return daily\n",
    "\n",
    "def load_all_5min_spx():\n",
    "    files = [ \n",
    "        \"/Users/partha/Downloads/0-DTE/indexes/SPX-Dec-13.csv\",\n",
    "        \"/Users/partha/Downloads/0-DTE/indexes/SPX-Dec-16.csv\",\n",
    "        \"/Users/partha/Downloads/0-DTE/indexes/SPX-Dec-12.csv\",\n",
    "        \"/Users/partha/Downloads/0-DTE/indexes/SPX-Dec-9.csv\",\n",
    "        \"/Users/partha/Downloads/0-DTE/indexes/SPX-Dec-8.csv\",\n",
    "            \"/Users/partha/Downloads/0-DTE/indexes/SPX-DEC-6.csv\",\n",
    "             \"/Users/partha/Downloads/0-DTE/indexes/SPX-DEC-7.csv\",\n",
    "            \"/Users/partha/Downloads/0-DTE/indexes/spx-oct-28-snapshot.csv\",\n",
    "        \"/Users/partha/Downloads/0-DTE/indexes/SPX-Dec-20.csv\",\n",
    "    \"/Users/partha/Downloads/0-DTE/indexes/SPX-Dec-19.csv\"]\n",
    "\n",
    "    df = pd.DataFrame()\n",
    "    for file in files:\n",
    "        print ('Loading file {}'.format(file))\n",
    "        df = df.append(load_data(file))\n",
    "    df = df[df['Day'] > '08/31/2022']\n",
    "    return df.drop_duplicates().sort_values(by='Date', ascending=True)"
   ]
  },
  {
   "cell_type": "code",
   "execution_count": 17,
   "metadata": {},
   "outputs": [],
   "source": [
    "def build_seq(segment, split_size=10):\n",
    "    rge = segment['High'].max() - segment['Low'].min()\n",
    "    ilist = np.array_split(segment, split_size)\n",
    "    amap = []\n",
    "   \n",
    "    for idf in ilist:\n",
    "        try:\n",
    "            idf = idf.reset_index(drop=True)\n",
    "            s = int((idf[:1]['Open'].min()-segment['Low'].min())*split_size/rge)\n",
    "            e = int((idf.iloc[-1]['Close'].min()-segment['Low'].min())*split_size/rge)\n",
    "            if not amap:\n",
    "                amap.append(s)\n",
    "            else:    \n",
    "                amap.append(e)\n",
    "        except Exception as e:\n",
    "            print (\"Exception while building Sequence {}\".format(e))\n",
    "            pass    \n",
    "    return amap\n",
    "def train_segments(chart, seq_map, split_size=10):\n",
    "    chart = chart.reset_index(drop=True)\n",
    "    for i in range(0, len(chart)):\n",
    "        segment = chart[i:i+split_size]\n",
    "        segment = segment.reset_index(drop=True)\n",
    "        if len(segment) < split_size:\n",
    "            continue\n",
    "        \n",
    "        amap = build_seq(segment,split_size)\n",
    "        \n",
    "        if len(amap) != split_size:\n",
    "               continue\n",
    "        if i % 200 == 0:\n",
    "            \n",
    "            #print ('Completed {} iterations'.format(i))\n",
    "            pass\n",
    "        amap = [item - amap[0] for item in amap]\n",
    "        \n",
    "        seq_map[str(amap)] = {\"Sequence\": amap, \n",
    "                              'Start date': segment.iloc[0]['Day'], \n",
    "                              'End Date': segment.iloc[-1]['Day'],\n",
    "                              'Start Time' : segment.iloc[0]['Time'],\n",
    "                              'End Time' : segment.iloc[-1]['Time']\n",
    "                             }              \n",
    "    return seq_map"
   ]
  },
  {
   "cell_type": "code",
   "execution_count": 20,
   "metadata": {},
   "outputs": [],
   "source": [
    "\n",
    "\n",
    "def to_pst(time1):\n",
    "    hhmm = time1.split(\":\")\n",
    "    return '' + str((int(hhmm[0]) - 3)) + ':'+ hhmm[1]\n",
    "\n",
    "def to_est(time1):\n",
    "    hhmm = time1.split(\":\")\n",
    "    est = '' + str((int(hhmm[0]) + 3)) + ':'+ hhmm[1]\n",
    "    if (int(hhmm[0]) + 3) == 9:\n",
    "        est = '0' + est\n",
    "    return est\n",
    "\n",
    "def test_one_segment(dft, model, window):\n",
    "    #print (\"Testing: {}- {} and {}-{}\".format(dft.iloc[0]['Day'], to_pst(dft.iloc[0]['Time']), dft.iloc[-1]['Day'], to_pst(dft.iloc[-1]['Time'])))\n",
    "    \n",
    "    pred = test_a_segment(dft, model, split_size=window)\n",
    "    return pred\n",
    "\n",
    "\n",
    "        \n",
    "def test_a_day(thisday, window, horizon, offset=25, reference='11:30', close='13:00'):\n",
    "    up = 'Up'\n",
    "    down = 'Down'\n",
    "    model_file = '/Users/partha/Downloads/0-DTE/models/SPX-model-{}.json'.format(window)\n",
    "    model = json.loads(open(model_file).read())\n",
    "    print (\"Loaded model {} successfully ({})\".format(model_file, len(model)))\n",
    "    daydf = df5min_test[(df5min_test['Day'] == thisday)]\n",
    "    \n",
    "    test_samples = daydf[daydf['Time'] <= reference]\n",
    "    \n",
    "    \n",
    "    test_samples = test_samples[-window:]\n",
    "    \n",
    "    \n",
    "    #print (\"length of df {}\".format( len(dft)))\n",
    "    pred = test_one_segment(test_samples, model, window)\n",
    "    # get predicted dataframe \n",
    "    pdf = df5min_test[(df5min_test['Day'] >= pred['End Date']) & (df5min_test['Time'] >= pred['End Time'])]\n",
    "   \n",
    "    predicted_outcome = up if pdf.iloc[-1]['Close'] > pdf.iloc[0]['Close'] else down\n",
    "    #daydf = df5min_test[(df5min_test['Day'] == thisday)]\n",
    "    response = {\n",
    "                'Test Day': thisday, 'TestTime0': to_pst(test_samples.iloc[0]['Time']), \n",
    "                'TestTime1':  to_pst(test_samples.iloc[-1]['Time']),\n",
    "                'Start': pred['Start date'], 'End':pred['End Date'], \n",
    "                'Time0': to_pst(pred['Start Time']), 'Time1': to_pst(pred['End Time']),\n",
    "                'Distance': pred['Distance'],\n",
    "                'predicted Until' : pdf.iloc[-1]['Time'],\n",
    "                'Actual Until' : daydf.iloc[-1]['Time'],\n",
    "                'Tags' : classified.get(pred['Start date'], None),\n",
    "                'Predicted Outcome' : predicted_outcome       \n",
    "               }\n",
    "   \n",
    "    \n",
    "#     response['Diff'] = test_samples.iloc[-1]['Time'] + \" - \" + str(test_samples.iloc[-1]['Close']) + \\\n",
    "#                             \" / \" + daydf.iloc[-1]['Time'] + \" - \"+ str(daydf.iloc[-1]['Close'])\n",
    "    response['Actual'] = up if daydf.iloc[-1]['Close'] > test_samples.iloc[-1]['Close'] else down\n",
    "    #response['End Time'] = dft1.iloc[-1]['Time']\n",
    "    #response['Start Time'] = dft1.iloc[0]['Time']\n",
    "    if len(cdf) > 0 and horizon:\n",
    "        for h in horizon:\n",
    "            h = to_est(h)\n",
    "            try:\n",
    "                response['At{}'.format(h.replace(':', '_'))] = up if cdf.iloc[0]['Close'] - cdf.loc[cdf['Time'] == h].iloc[0]['Close'] < 0 else down\n",
    "                                                \n",
    "            except:\n",
    "                value = 'Error'\n",
    "                try:\n",
    "                    value = up if cdf.iloc[0]['Close'] - cdf.loc[cdf['Time'] == close].iloc[0]['Close'] < 0 else down\n",
    "                except:\n",
    "                    pass\n",
    "                response['At{}'.format(h.replace(':', '_'))] = value\n",
    "    return response\n",
    "\n",
    "\n",
    "horizons = ['12:00', '12:55']\n",
    "def run_test(horizons, windows, test_day = '12/09/2022', offset=25, reference='11:30'):  # #[10,11,12,13,14,15,16,17,18,19,20,21,22,23,24,25])\n",
    "    predictions = []\n",
    "    for i in windows:\n",
    "        pred = test_a_day(test_day, i, horizons, offset, reference=reference)\n",
    "        pred['Window'] = i\n",
    "        if pred['Start'] != pred['End']:\n",
    "            #continue\n",
    "            pass\n",
    "        if pred['Start'] == test_day:\n",
    "            #continue\n",
    "            pass\n",
    "        predictions.append(pred)\n",
    "    result = pd.DataFrame(predictions)\n",
    "#     if window is None:\n",
    "#         # Compare horizons\n",
    "#         for h in horizons:\n",
    "#             h = 'At' + to_est(h).replace(':', '_')\n",
    "#             result.loc[result[h] == result['Actual'], h+'_'] = 1\n",
    "#             result[h+'_'] = result[h+'_'].fillna(0)\n",
    "#             result = result.drop(columns=[h])\n",
    "    return result\n"
   ]
  },
  {
   "cell_type": "code",
   "execution_count": 16,
   "metadata": {},
   "outputs": [
    {
     "name": "stdout",
     "output_type": "stream",
     "text": [
      "Loading file /Users/partha/Downloads/0-DTE/indexes/SPX-Dec-13.csv\n"
     ]
    },
    {
     "name": "stderr",
     "output_type": "stream",
     "text": [
      "/opt/anaconda3/lib/python3.7/site-packages/dateutil/parser/_parser.py:1218: UnknownTimezoneWarning: tzname ET identified but not understood.  Pass `tzinfos` argument in order to correctly return a timezone-aware datetime.  In a future version, this will raise an exception.\n",
      "  category=UnknownTimezoneWarning)\n"
     ]
    },
    {
     "name": "stdout",
     "output_type": "stream",
     "text": [
      "Loading file /Users/partha/Downloads/0-DTE/indexes/SPX-Dec-16.csv\n"
     ]
    },
    {
     "name": "stderr",
     "output_type": "stream",
     "text": [
      "/opt/anaconda3/lib/python3.7/site-packages/dateutil/parser/_parser.py:1218: UnknownTimezoneWarning: tzname ET identified but not understood.  Pass `tzinfos` argument in order to correctly return a timezone-aware datetime.  In a future version, this will raise an exception.\n",
      "  category=UnknownTimezoneWarning)\n"
     ]
    },
    {
     "name": "stdout",
     "output_type": "stream",
     "text": [
      "Loading file /Users/partha/Downloads/0-DTE/indexes/SPX-Dec-12.csv\n"
     ]
    },
    {
     "name": "stderr",
     "output_type": "stream",
     "text": [
      "/opt/anaconda3/lib/python3.7/site-packages/dateutil/parser/_parser.py:1218: UnknownTimezoneWarning: tzname ET identified but not understood.  Pass `tzinfos` argument in order to correctly return a timezone-aware datetime.  In a future version, this will raise an exception.\n",
      "  category=UnknownTimezoneWarning)\n"
     ]
    },
    {
     "name": "stdout",
     "output_type": "stream",
     "text": [
      "Loading file /Users/partha/Downloads/0-DTE/indexes/SPX-Dec-9.csv\n"
     ]
    },
    {
     "name": "stderr",
     "output_type": "stream",
     "text": [
      "/opt/anaconda3/lib/python3.7/site-packages/dateutil/parser/_parser.py:1218: UnknownTimezoneWarning: tzname ET identified but not understood.  Pass `tzinfos` argument in order to correctly return a timezone-aware datetime.  In a future version, this will raise an exception.\n",
      "  category=UnknownTimezoneWarning)\n"
     ]
    },
    {
     "name": "stdout",
     "output_type": "stream",
     "text": [
      "Loading file /Users/partha/Downloads/0-DTE/indexes/SPX-Dec-8.csv\n"
     ]
    },
    {
     "name": "stderr",
     "output_type": "stream",
     "text": [
      "/opt/anaconda3/lib/python3.7/site-packages/dateutil/parser/_parser.py:1218: UnknownTimezoneWarning: tzname ET identified but not understood.  Pass `tzinfos` argument in order to correctly return a timezone-aware datetime.  In a future version, this will raise an exception.\n",
      "  category=UnknownTimezoneWarning)\n"
     ]
    },
    {
     "name": "stdout",
     "output_type": "stream",
     "text": [
      "Loading file /Users/partha/Downloads/0-DTE/indexes/SPX-DEC-6.csv\n"
     ]
    },
    {
     "name": "stderr",
     "output_type": "stream",
     "text": [
      "/opt/anaconda3/lib/python3.7/site-packages/dateutil/parser/_parser.py:1218: UnknownTimezoneWarning: tzname ET identified but not understood.  Pass `tzinfos` argument in order to correctly return a timezone-aware datetime.  In a future version, this will raise an exception.\n",
      "  category=UnknownTimezoneWarning)\n"
     ]
    },
    {
     "name": "stdout",
     "output_type": "stream",
     "text": [
      "Loading file /Users/partha/Downloads/0-DTE/indexes/SPX-DEC-7.csv\n"
     ]
    },
    {
     "name": "stderr",
     "output_type": "stream",
     "text": [
      "/opt/anaconda3/lib/python3.7/site-packages/dateutil/parser/_parser.py:1218: UnknownTimezoneWarning: tzname ET identified but not understood.  Pass `tzinfos` argument in order to correctly return a timezone-aware datetime.  In a future version, this will raise an exception.\n",
      "  category=UnknownTimezoneWarning)\n"
     ]
    },
    {
     "name": "stdout",
     "output_type": "stream",
     "text": [
      "Loading file /Users/partha/Downloads/0-DTE/indexes/spx-oct-28-snapshot.csv\n"
     ]
    },
    {
     "name": "stderr",
     "output_type": "stream",
     "text": [
      "/opt/anaconda3/lib/python3.7/site-packages/dateutil/parser/_parser.py:1218: UnknownTimezoneWarning: tzname ET identified but not understood.  Pass `tzinfos` argument in order to correctly return a timezone-aware datetime.  In a future version, this will raise an exception.\n",
      "  category=UnknownTimezoneWarning)\n"
     ]
    },
    {
     "name": "stdout",
     "output_type": "stream",
     "text": [
      "Loading file /Users/partha/Downloads/0-DTE/indexes/SPX-Dec-20.csv\n"
     ]
    },
    {
     "name": "stderr",
     "output_type": "stream",
     "text": [
      "/opt/anaconda3/lib/python3.7/site-packages/dateutil/parser/_parser.py:1218: UnknownTimezoneWarning: tzname ET identified but not understood.  Pass `tzinfos` argument in order to correctly return a timezone-aware datetime.  In a future version, this will raise an exception.\n",
      "  category=UnknownTimezoneWarning)\n"
     ]
    },
    {
     "name": "stdout",
     "output_type": "stream",
     "text": [
      "Loading file /Users/partha/Downloads/0-DTE/indexes/SPX-Dec-19.csv\n"
     ]
    },
    {
     "name": "stderr",
     "output_type": "stream",
     "text": [
      "/opt/anaconda3/lib/python3.7/site-packages/dateutil/parser/_parser.py:1218: UnknownTimezoneWarning: tzname ET identified but not understood.  Pass `tzinfos` argument in order to correctly return a timezone-aware datetime.  In a future version, this will raise an exception.\n",
      "  category=UnknownTimezoneWarning)\n"
     ]
    },
    {
     "ename": "NameError",
     "evalue": "name 'build_seq' is not defined",
     "output_type": "error",
     "traceback": [
      "\u001b[0;31m---------------------------------------------------------------------------\u001b[0m",
      "\u001b[0;31mNameError\u001b[0m                                 Traceback (most recent call last)",
      "\u001b[0;32m<ipython-input-16-f6e895fd5ae3>\u001b[0m in \u001b[0;36m<module>\u001b[0;34m\u001b[0m\n\u001b[1;32m      1\u001b[0m \u001b[0mspx\u001b[0m \u001b[0;34m=\u001b[0m \u001b[0mload_all_5min_spx\u001b[0m\u001b[0;34m(\u001b[0m\u001b[0;34m)\u001b[0m\u001b[0;34m\u001b[0m\u001b[0;34m\u001b[0m\u001b[0m\n\u001b[0;32m----> 2\u001b[0;31m \u001b[0mmodel\u001b[0m \u001b[0;34m=\u001b[0m \u001b[0mtrain_segments\u001b[0m\u001b[0;34m(\u001b[0m\u001b[0mspx\u001b[0m\u001b[0;34m[\u001b[0m\u001b[0mspx\u001b[0m\u001b[0;34m[\u001b[0m\u001b[0;34m'Day'\u001b[0m\u001b[0;34m]\u001b[0m \u001b[0;34m<=\u001b[0m \u001b[0;34m'11/15/2022'\u001b[0m\u001b[0;34m]\u001b[0m\u001b[0;34m,\u001b[0m \u001b[0;34m{\u001b[0m\u001b[0;34m}\u001b[0m\u001b[0;34m,\u001b[0m \u001b[0msplit_size\u001b[0m\u001b[0;34m=\u001b[0m\u001b[0;36m25\u001b[0m\u001b[0;34m)\u001b[0m\u001b[0;34m\u001b[0m\u001b[0;34m\u001b[0m\u001b[0m\n\u001b[0m",
      "\u001b[0;32m<ipython-input-14-3a3c722f4e38>\u001b[0m in \u001b[0;36mtrain_segments\u001b[0;34m(chart, seq_map, split_size)\u001b[0m\n\u001b[1;32m      7\u001b[0m             \u001b[0;32mcontinue\u001b[0m\u001b[0;34m\u001b[0m\u001b[0;34m\u001b[0m\u001b[0m\n\u001b[1;32m      8\u001b[0m \u001b[0;34m\u001b[0m\u001b[0m\n\u001b[0;32m----> 9\u001b[0;31m         \u001b[0mamap\u001b[0m \u001b[0;34m=\u001b[0m \u001b[0mbuild_seq\u001b[0m\u001b[0;34m(\u001b[0m\u001b[0msegment\u001b[0m\u001b[0;34m,\u001b[0m\u001b[0msplit_size\u001b[0m\u001b[0;34m)\u001b[0m\u001b[0;34m\u001b[0m\u001b[0;34m\u001b[0m\u001b[0m\n\u001b[0m\u001b[1;32m     10\u001b[0m \u001b[0;34m\u001b[0m\u001b[0m\n\u001b[1;32m     11\u001b[0m         \u001b[0;32mif\u001b[0m \u001b[0mlen\u001b[0m\u001b[0;34m(\u001b[0m\u001b[0mamap\u001b[0m\u001b[0;34m)\u001b[0m \u001b[0;34m!=\u001b[0m \u001b[0msplit_size\u001b[0m\u001b[0;34m:\u001b[0m\u001b[0;34m\u001b[0m\u001b[0;34m\u001b[0m\u001b[0m\n",
      "\u001b[0;31mNameError\u001b[0m: name 'build_seq' is not defined"
     ]
    }
   ],
   "source": [
    "spx = load_all_5min_spx()\n"
   ]
  },
  {
   "cell_type": "code",
   "execution_count": 19,
   "metadata": {},
   "outputs": [],
   "source": [
    "model = train_segments(spx[spx['Day'] <= '11/15/2022'], {}, split_size=25)"
   ]
  },
  {
   "cell_type": "code",
   "execution_count": null,
   "metadata": {},
   "outputs": [],
   "source": [
    "def run_experiment(df, window=25):\n",
    "    model_file = '/Users/partha/Downloads/0-DTE/models/SPX-model-{}.json'.format(window)\n",
    "    pred = test_one_segment(df[-25:], model, window)\n",
    "    "
   ]
  }
 ],
 "metadata": {
  "kernelspec": {
   "display_name": "Python 3",
   "language": "python",
   "name": "python3"
  },
  "language_info": {
   "codemirror_mode": {
    "name": "ipython",
    "version": 3
   },
   "file_extension": ".py",
   "mimetype": "text/x-python",
   "name": "python",
   "nbconvert_exporter": "python",
   "pygments_lexer": "ipython3",
   "version": "3.7.4"
  }
 },
 "nbformat": 4,
 "nbformat_minor": 2
}
